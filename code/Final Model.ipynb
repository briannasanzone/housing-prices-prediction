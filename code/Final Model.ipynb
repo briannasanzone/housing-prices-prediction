{
 "cells": [
  {
   "cell_type": "markdown",
   "id": "cf722f8f-2fdc-4a47-be2c-90b7f5644db4",
   "metadata": {},
   "source": [
    "## Imports"
   ]
  },
  {
   "cell_type": "code",
   "execution_count": 148,
   "id": "0cb0deaf-2888-4c90-b8e2-a17e11b77976",
   "metadata": {},
   "outputs": [],
   "source": [
    "import pandas as pd\n",
    "import numpy as np \n",
    "import matplotlib.pyplot as plt\n",
    "import seaborn as sns\n",
    "from sklearn import metrics\n",
    "from sklearn.model_selection import train_test_split, cross_val_score, GridSearchCV\n",
    "from sklearn.preprocessing import StandardScaler, PolynomialFeatures, OneHotEncoder\n",
    "from sklearn.linear_model import LinearRegression, Ridge, RidgeCV, Lasso, LassoCV\n",
    "from sklearn.metrics import mean_squared_error\n",
    "from sklearn.pipeline import Pipeline\n",
    "from sklearn.datasets import make_classification\n",
    "import warnings\n",
    "warnings.filterwarnings(\"ignore\")\n",
    "import statsmodels.api as sm"
   ]
  },
  {
   "cell_type": "code",
   "execution_count": 149,
   "id": "4f0e347b-d070-4db5-8bac-98c4678ee7d0",
   "metadata": {},
   "outputs": [
    {
     "data": {
      "text/html": [
       "<div>\n",
       "<style scoped>\n",
       "    .dataframe tbody tr th:only-of-type {\n",
       "        vertical-align: middle;\n",
       "    }\n",
       "\n",
       "    .dataframe tbody tr th {\n",
       "        vertical-align: top;\n",
       "    }\n",
       "\n",
       "    .dataframe thead th {\n",
       "        text-align: right;\n",
       "    }\n",
       "</style>\n",
       "<table border=\"1\" class=\"dataframe\">\n",
       "  <thead>\n",
       "    <tr style=\"text-align: right;\">\n",
       "      <th></th>\n",
       "      <th>Id</th>\n",
       "      <th>PID</th>\n",
       "      <th>MS SubClass</th>\n",
       "      <th>MS Zoning</th>\n",
       "      <th>Lot Frontage</th>\n",
       "      <th>Lot Area</th>\n",
       "      <th>Street</th>\n",
       "      <th>Alley</th>\n",
       "      <th>Lot Shape</th>\n",
       "      <th>Land Contour</th>\n",
       "      <th>...</th>\n",
       "      <th>Screen Porch</th>\n",
       "      <th>Pool Area</th>\n",
       "      <th>Pool QC</th>\n",
       "      <th>Fence</th>\n",
       "      <th>Misc Feature</th>\n",
       "      <th>Misc Val</th>\n",
       "      <th>Mo Sold</th>\n",
       "      <th>Yr Sold</th>\n",
       "      <th>Sale Type</th>\n",
       "      <th>SalePrice</th>\n",
       "    </tr>\n",
       "  </thead>\n",
       "  <tbody>\n",
       "    <tr>\n",
       "      <th>0</th>\n",
       "      <td>109</td>\n",
       "      <td>533352170</td>\n",
       "      <td>60</td>\n",
       "      <td>RL</td>\n",
       "      <td>NaN</td>\n",
       "      <td>13517</td>\n",
       "      <td>Pave</td>\n",
       "      <td>NaN</td>\n",
       "      <td>IR1</td>\n",
       "      <td>Lvl</td>\n",
       "      <td>...</td>\n",
       "      <td>0</td>\n",
       "      <td>0</td>\n",
       "      <td>NaN</td>\n",
       "      <td>NaN</td>\n",
       "      <td>NaN</td>\n",
       "      <td>0</td>\n",
       "      <td>3</td>\n",
       "      <td>2010</td>\n",
       "      <td>WD</td>\n",
       "      <td>130500</td>\n",
       "    </tr>\n",
       "    <tr>\n",
       "      <th>1</th>\n",
       "      <td>544</td>\n",
       "      <td>531379050</td>\n",
       "      <td>60</td>\n",
       "      <td>RL</td>\n",
       "      <td>43.0</td>\n",
       "      <td>11492</td>\n",
       "      <td>Pave</td>\n",
       "      <td>NaN</td>\n",
       "      <td>IR1</td>\n",
       "      <td>Lvl</td>\n",
       "      <td>...</td>\n",
       "      <td>0</td>\n",
       "      <td>0</td>\n",
       "      <td>NaN</td>\n",
       "      <td>NaN</td>\n",
       "      <td>NaN</td>\n",
       "      <td>0</td>\n",
       "      <td>4</td>\n",
       "      <td>2009</td>\n",
       "      <td>WD</td>\n",
       "      <td>220000</td>\n",
       "    </tr>\n",
       "    <tr>\n",
       "      <th>2</th>\n",
       "      <td>153</td>\n",
       "      <td>535304180</td>\n",
       "      <td>20</td>\n",
       "      <td>RL</td>\n",
       "      <td>68.0</td>\n",
       "      <td>7922</td>\n",
       "      <td>Pave</td>\n",
       "      <td>NaN</td>\n",
       "      <td>Reg</td>\n",
       "      <td>Lvl</td>\n",
       "      <td>...</td>\n",
       "      <td>0</td>\n",
       "      <td>0</td>\n",
       "      <td>NaN</td>\n",
       "      <td>NaN</td>\n",
       "      <td>NaN</td>\n",
       "      <td>0</td>\n",
       "      <td>1</td>\n",
       "      <td>2010</td>\n",
       "      <td>WD</td>\n",
       "      <td>109000</td>\n",
       "    </tr>\n",
       "    <tr>\n",
       "      <th>3</th>\n",
       "      <td>318</td>\n",
       "      <td>916386060</td>\n",
       "      <td>60</td>\n",
       "      <td>RL</td>\n",
       "      <td>73.0</td>\n",
       "      <td>9802</td>\n",
       "      <td>Pave</td>\n",
       "      <td>NaN</td>\n",
       "      <td>Reg</td>\n",
       "      <td>Lvl</td>\n",
       "      <td>...</td>\n",
       "      <td>0</td>\n",
       "      <td>0</td>\n",
       "      <td>NaN</td>\n",
       "      <td>NaN</td>\n",
       "      <td>NaN</td>\n",
       "      <td>0</td>\n",
       "      <td>4</td>\n",
       "      <td>2010</td>\n",
       "      <td>WD</td>\n",
       "      <td>174000</td>\n",
       "    </tr>\n",
       "    <tr>\n",
       "      <th>4</th>\n",
       "      <td>255</td>\n",
       "      <td>906425045</td>\n",
       "      <td>50</td>\n",
       "      <td>RL</td>\n",
       "      <td>82.0</td>\n",
       "      <td>14235</td>\n",
       "      <td>Pave</td>\n",
       "      <td>NaN</td>\n",
       "      <td>IR1</td>\n",
       "      <td>Lvl</td>\n",
       "      <td>...</td>\n",
       "      <td>0</td>\n",
       "      <td>0</td>\n",
       "      <td>NaN</td>\n",
       "      <td>NaN</td>\n",
       "      <td>NaN</td>\n",
       "      <td>0</td>\n",
       "      <td>3</td>\n",
       "      <td>2010</td>\n",
       "      <td>WD</td>\n",
       "      <td>138500</td>\n",
       "    </tr>\n",
       "  </tbody>\n",
       "</table>\n",
       "<p>5 rows × 81 columns</p>\n",
       "</div>"
      ],
      "text/plain": [
       "    Id        PID  MS SubClass MS Zoning  Lot Frontage  Lot Area Street Alley  \\\n",
       "0  109  533352170           60        RL           NaN     13517   Pave   NaN   \n",
       "1  544  531379050           60        RL          43.0     11492   Pave   NaN   \n",
       "2  153  535304180           20        RL          68.0      7922   Pave   NaN   \n",
       "3  318  916386060           60        RL          73.0      9802   Pave   NaN   \n",
       "4  255  906425045           50        RL          82.0     14235   Pave   NaN   \n",
       "\n",
       "  Lot Shape Land Contour  ... Screen Porch Pool Area Pool QC Fence  \\\n",
       "0       IR1          Lvl  ...            0         0     NaN   NaN   \n",
       "1       IR1          Lvl  ...            0         0     NaN   NaN   \n",
       "2       Reg          Lvl  ...            0         0     NaN   NaN   \n",
       "3       Reg          Lvl  ...            0         0     NaN   NaN   \n",
       "4       IR1          Lvl  ...            0         0     NaN   NaN   \n",
       "\n",
       "  Misc Feature Misc Val Mo Sold Yr Sold  Sale Type  SalePrice  \n",
       "0          NaN        0       3    2010        WD      130500  \n",
       "1          NaN        0       4    2009        WD      220000  \n",
       "2          NaN        0       1    2010        WD      109000  \n",
       "3          NaN        0       4    2010        WD      174000  \n",
       "4          NaN        0       3    2010        WD      138500  \n",
       "\n",
       "[5 rows x 81 columns]"
      ]
     },
     "execution_count": 149,
     "metadata": {},
     "output_type": "execute_result"
    }
   ],
   "source": [
    "# read in training dataframe\n",
    "train_df = pd.read_csv('datasets/train.csv')\n",
    "# display first 5 rows to evaluate\n",
    "train_df.head()"
   ]
  },
  {
   "cell_type": "code",
   "execution_count": 150,
   "id": "0518fd18-882c-4056-a9dc-989a5dd716bc",
   "metadata": {},
   "outputs": [],
   "source": [
    "# clean column names with no spaces and all lower case\n",
    "train_df.columns = train_df.columns.str.lower().str.replace(' ', '_')"
   ]
  },
  {
   "cell_type": "code",
   "execution_count": 151,
   "id": "0d7b86ef-6613-4bde-9941-5ffb5552a2b0",
   "metadata": {},
   "outputs": [],
   "source": [
    "# Create custom pipe with the knowledge and help of Chuck\n",
    "def custom_pipe(df):\n",
    "    # set X or independent variables\n",
    "    X = df[['overall_cond', \n",
    "                'overall_qual', \n",
    "                'exter_qual',\n",
    "                'exter_cond',\n",
    "                'garage_finish',\n",
    "                'garage_cars',\n",
    "                'garage_cond',\n",
    "                'garage_area',\n",
    "                'garage_qual',\n",
    "                'bsmt_qual',\n",
    "                'bsmt_cond',\n",
    "                'bsmt_exposure',\n",
    "                'total_bsmt_sf',  \n",
    "                'kitchen_qual', \n",
    "                'fireplace_qu', \n",
    "                'fireplaces',\n",
    "                'year_built',\n",
    "                'year_remod/add',\n",
    "                'full_bath',\n",
    "                'half_bath',\n",
    "                'bedroom_abvgr',\n",
    "                'totrms_abvgrd',\n",
    "                '2nd_flr_sf',\n",
    "                'gr_liv_area',\n",
    "                'bsmtfin_type_1',\n",
    "                'bsmtfin_sf_1',\n",
    "                '1st_flr_sf',\n",
    "                'ms_zoning',\n",
    "                'neighborhood']]\n",
    "    X.fillna(0, inplace=True)\n",
    "    # set up a dict for mapping of ordinal data columns\n",
    "    ordinal_dict = {\n",
    "        'Ex' : 5,\n",
    "        'Gd' : 4,\n",
    "        'TA' : 3,\n",
    "        'Fa' : 2,\n",
    "        'Po' : 1,\n",
    "        'NA' : 0,\n",
    "        0    : 0}\n",
    "    garage_finish_dct = {\n",
    "        'Fin':3,\n",
    "        'RFn':2,\n",
    "        'Unf':1,\n",
    "        'NA' :0,\n",
    "        0    :0}\n",
    "    bmt_exposure_dct = {\n",
    "        'Gd':4,\n",
    "        'Av':3,\n",
    "        'Mn':2,\n",
    "        'No':1,\n",
    "        'NA':0,\n",
    "        0   :0}\n",
    "    bmt_fin_type_dct = {\n",
    "    'GLQ':5,\n",
    "    'ALQ':4,\n",
    "    'BLQ':3,\n",
    "    'Rec':3,\n",
    "    'LwQ':2,\n",
    "    'Unf':1,\n",
    "    'NA':0,\n",
    "    0   :0}\n",
    "    nbhd_dct = {\n",
    "    'StoneBr' : 3, \n",
    "    'NridgHt' : 3, \n",
    "    'NoRidge' : 3, \n",
    "    'GrnHill' : 3, \n",
    "    'Veenker' : 3, \n",
    "    'Timber' : 3, \n",
    "    'Somerst' : 3,\n",
    "    'ClearCr' : 3, \n",
    "    'Crawfor': 2, \n",
    "    'CollgCr':2, \n",
    "    'Blmngtn':2, \n",
    "    'NWAmes':2, \n",
    "    'Gilbert':2, \n",
    "    'Greens':2, \n",
    "    'SawyerW':2, \n",
    "    'Mitchel':2, \n",
    "    'NAmes':2, \n",
    "    'Blueste' : 2,\n",
    "    'NPkVill':1,\n",
    "    'Sawyer':1, \n",
    "    'Landmrk':1, \n",
    "    'SWISU':1, \n",
    "    'Edwards':1, \n",
    "    'BrkSide':1, \n",
    "    'OldTown':1, \n",
    "    'BrDale':1, \n",
    "    'IDOTRR':1, \n",
    "    'MeadowV':1}\n",
    "    ms_zone_dct = {\n",
    "    'RL':1,\n",
    "    'RM':1,\n",
    "    'FV':1,\n",
    "    'C (all)':0,\n",
    "    'RH':1,\n",
    "    'A (agr)':0,\n",
    "    'I (all)':0,\n",
    "     0:0}\n",
    "    #casting values based on the dictionary above \n",
    "    X['bsmt_cond'] = X['bsmt_cond'].map(ordinal_dict)\n",
    "    X['bsmt_qual'] = X['bsmt_qual'].map(ordinal_dict)\n",
    "    X['bsmt_exposure'] = X['bsmt_exposure'].map(bmt_exposure_dct)\n",
    "    X['exter_cond'] = X['exter_cond'].map(ordinal_dict)\n",
    "    X['exter_qual'] = X['exter_qual'].map(ordinal_dict)\n",
    "    X['garage_cond'] = X['garage_cond'].map(ordinal_dict)\n",
    "    X['garage_qual'] = X['garage_qual'].map(ordinal_dict)\n",
    "    X['kitchen_qual'] = X['kitchen_qual'].map(ordinal_dict)\n",
    "    X['garage_finish'] = X['garage_finish'].map(garage_finish_dct)\n",
    "    X['fireplace_qu'] = X['fireplace_qu'].map(ordinal_dict)\n",
    "    X['bsmtfin_type_1'] = X['bsmtfin_type_1'].map(bmt_fin_type_dct)\n",
    "    X['neighborhood'] = X['neighborhood'].map(nbhd_dct)\n",
    "    X['ms_zoning'] = X['ms_zoning'].map(ms_zone_dct)\n",
    "    #feature extraction \n",
    "    X['year_built'] = 2010 - X['year_built']\n",
    "    X['year_remod/add'] = 2010 - X['year_remod/add']\n",
    "    #feature interactions\n",
    "    #basement\n",
    "    X['total_basement'] = X['bsmt_qual'] * X['total_bsmt_sf'] * X['bsmt_cond']\n",
    "    X['bsmt_1_total'] = X['bsmtfin_type_1'] * X['bsmtfin_sf_1']\n",
    "    # garage\n",
    "    X['total_garage']=X['garage_cond']* X['garage_qual'] * X['garage_finish'] * X['garage_area']\n",
    "    X['garage_area_cars']=X['garage_area'] * X['garage_cars']\n",
    "    # living areas\n",
    "    X['social_area_qual'] = X['gr_liv_area'] * X['kitchen_qual'] \n",
    "    X['total_bath'] = X['full_bath'] + X['half_bath']\n",
    "    X['all_fireplace'] = X['fireplace_qu']*X['fireplaces']\n",
    "    #2nd floor\n",
    "    X['abv_rooms'] = X['totrms_abvgrd'] * X['bedroom_abvgr'] * X['2nd_flr_sf']\n",
    "    #overall assessment\n",
    "    X['overall_qual_cond'] = X['overall_cond'] * X['overall_qual']\n",
    "    X['exter_overall'] = X['exter_cond'] * X['exter_qual']\n",
    "    X['ages'] = X['year_built'] * X['year_remod/add']\n",
    "    X['total_sf'] = X['1st_flr_sf'] * X['2nd_flr_sf'] * X['total_bsmt_sf']\n",
    "    # area of living\n",
    "    X['ames_zone_nbhood'] = X['neighborhood'] * X['ms_zoning']\n",
    "    \n",
    "    try:\n",
    "        y = df['saleprice']\n",
    "    except:\n",
    "        y = 0\n",
    "    return(X,y)"
   ]
  },
  {
   "cell_type": "code",
   "execution_count": 152,
   "id": "1570ea89-4aba-419f-ba32-f3ef266ea41f",
   "metadata": {},
   "outputs": [],
   "source": [
    "# Execute custom pipe on training data\n",
    "X,y = custom_pipe(train_df)"
   ]
  },
  {
   "cell_type": "code",
   "execution_count": 153,
   "id": "27da3870-d68e-4a07-895e-288ce8ae8dbe",
   "metadata": {},
   "outputs": [],
   "source": [
    "# Assign X and y to test_train_split\n",
    "X_train,X_test,y_train,y_test = train_test_split(X, y, train_size=.8, random_state=42)"
   ]
  },
  {
   "cell_type": "code",
   "execution_count": 154,
   "id": "1379c376-20dc-405f-8453-39bc75ad6719",
   "metadata": {},
   "outputs": [],
   "source": [
    "# Initiate Linear Regression\n",
    "linreg=LinearRegression()"
   ]
  },
  {
   "cell_type": "code",
   "execution_count": 155,
   "id": "a7464d7a-5f81-4bb6-bf61-a38ce3c45b25",
   "metadata": {},
   "outputs": [
    {
     "data": {
      "text/plain": [
       "LinearRegression()"
      ]
     },
     "execution_count": 155,
     "metadata": {},
     "output_type": "execute_result"
    }
   ],
   "source": [
    "# Fit linear regression model to X_train and y_train\n",
    "linreg.fit(X_train, y_train)"
   ]
  },
  {
   "cell_type": "code",
   "execution_count": 156,
   "id": "19ae5fa4-032e-49e6-9a91-5ccdf1f95452",
   "metadata": {},
   "outputs": [
    {
     "data": {
      "text/plain": [
       "0.8638041850801111"
      ]
     },
     "execution_count": 156,
     "metadata": {},
     "output_type": "execute_result"
    }
   ],
   "source": [
    "# Score linear regression on X_train and y_train\n",
    "linreg.score(X_train,y_train)"
   ]
  },
  {
   "cell_type": "code",
   "execution_count": 157,
   "id": "a64b36df-c7fc-4ea5-85f9-0a6edb368e69",
   "metadata": {},
   "outputs": [
    {
     "data": {
      "text/plain": [
       "0.8965422385720223"
      ]
     },
     "execution_count": 157,
     "metadata": {},
     "output_type": "execute_result"
    }
   ],
   "source": [
    "# Score linear regression on X_test and y_test\n",
    "linreg.score(X_test,y_test)"
   ]
  },
  {
   "cell_type": "code",
   "execution_count": 158,
   "id": "c2e7c63d-e5a6-4773-a371-c3642b501628",
   "metadata": {},
   "outputs": [
    {
     "name": "stdout",
     "output_type": "stream",
     "text": [
      "Training R2: 0.8638041850801111\n",
      "Testing R2: 0.8965422385720223\n",
      "Cross val R2: 0.7501815736998763\n"
     ]
    }
   ],
   "source": [
    "# Print Linear regression train, test, and cross val scores\n",
    "print(f\"Training R2: {linreg.score(X_train, y_train)}\")\n",
    "print(f\"Testing R2: {linreg.score(X_test, y_test)}\")\n",
    "print(f\"Cross val R2: {cross_val_score(linreg, X, y).mean()}\")"
   ]
  },
  {
   "cell_type": "markdown",
   "id": "64e82d8c-1e06-443f-90e8-36d348a549fc",
   "metadata": {},
   "source": [
    "#### Summary Stats of Ordinary Least Squares"
   ]
  },
  {
   "cell_type": "code",
   "execution_count": 159,
   "id": "cd791363-7905-439f-8d63-7f0638151b47",
   "metadata": {},
   "outputs": [
    {
     "data": {
      "text/html": [
       "<table class=\"simpletable\">\n",
       "<caption>OLS Regression Results</caption>\n",
       "<tr>\n",
       "  <th>Dep. Variable:</th>        <td>saleprice</td>    <th>  R-squared:         </th> <td>   0.871</td> \n",
       "</tr>\n",
       "<tr>\n",
       "  <th>Model:</th>                   <td>OLS</td>       <th>  Adj. R-squared:    </th> <td>   0.868</td> \n",
       "</tr>\n",
       "<tr>\n",
       "  <th>Method:</th>             <td>Least Squares</td>  <th>  F-statistic:       </th> <td>   330.9</td> \n",
       "</tr>\n",
       "<tr>\n",
       "  <th>Date:</th>             <td>Fri, 16 Jul 2021</td> <th>  Prob (F-statistic):</th>  <td>  0.00</td>  \n",
       "</tr>\n",
       "<tr>\n",
       "  <th>Time:</th>                 <td>22:22:31</td>     <th>  Log-Likelihood:    </th> <td> -23946.</td> \n",
       "</tr>\n",
       "<tr>\n",
       "  <th>No. Observations:</th>      <td>  2051</td>      <th>  AIC:               </th> <td>4.798e+04</td>\n",
       "</tr>\n",
       "<tr>\n",
       "  <th>Df Residuals:</th>          <td>  2009</td>      <th>  BIC:               </th> <td>4.821e+04</td>\n",
       "</tr>\n",
       "<tr>\n",
       "  <th>Df Model:</th>              <td>    41</td>      <th>                     </th>     <td> </td>    \n",
       "</tr>\n",
       "<tr>\n",
       "  <th>Covariance Type:</th>      <td>nonrobust</td>    <th>                     </th>     <td> </td>    \n",
       "</tr>\n",
       "</table>\n",
       "<table class=\"simpletable\">\n",
       "<tr>\n",
       "          <td></td>             <th>coef</th>     <th>std err</th>      <th>t</th>      <th>P>|t|</th>  <th>[0.025</th>    <th>0.975]</th>  \n",
       "</tr>\n",
       "<tr>\n",
       "  <th>const</th>             <td> 6750.5887</td> <td> 4.51e+04</td> <td>    0.150</td> <td> 0.881</td> <td>-8.18e+04</td> <td> 9.53e+04</td>\n",
       "</tr>\n",
       "<tr>\n",
       "  <th>overall_cond</th>      <td> 4645.4061</td> <td> 2629.630</td> <td>    1.767</td> <td> 0.077</td> <td> -511.680</td> <td> 9802.493</td>\n",
       "</tr>\n",
       "<tr>\n",
       "  <th>overall_qual</th>      <td> 8325.3231</td> <td> 2715.778</td> <td>    3.066</td> <td> 0.002</td> <td> 2999.287</td> <td> 1.37e+04</td>\n",
       "</tr>\n",
       "<tr>\n",
       "  <th>exter_qual</th>        <td> 8263.1978</td> <td>    1e+04</td> <td>    0.823</td> <td> 0.411</td> <td>-1.14e+04</td> <td>  2.8e+04</td>\n",
       "</tr>\n",
       "<tr>\n",
       "  <th>exter_cond</th>        <td> -315.2395</td> <td> 1.02e+04</td> <td>   -0.031</td> <td> 0.975</td> <td>-2.03e+04</td> <td> 1.97e+04</td>\n",
       "</tr>\n",
       "<tr>\n",
       "  <th>garage_finish</th>     <td>-1266.2781</td> <td> 1968.958</td> <td>   -0.643</td> <td> 0.520</td> <td>-5127.692</td> <td> 2595.136</td>\n",
       "</tr>\n",
       "<tr>\n",
       "  <th>garage_cars</th>       <td>-9264.4946</td> <td> 3321.197</td> <td>   -2.790</td> <td> 0.005</td> <td>-1.58e+04</td> <td>-2751.144</td>\n",
       "</tr>\n",
       "<tr>\n",
       "  <th>garage_cond</th>       <td>   -0.0287</td> <td> 3033.415</td> <td>-9.46e-06</td> <td> 1.000</td> <td>-5948.997</td> <td> 5948.940</td>\n",
       "</tr>\n",
       "<tr>\n",
       "  <th>garage_area</th>       <td>  -42.5088</td> <td>   12.409</td> <td>   -3.426</td> <td> 0.001</td> <td>  -66.844</td> <td>  -18.174</td>\n",
       "</tr>\n",
       "<tr>\n",
       "  <th>garage_qual</th>       <td> 6736.9097</td> <td> 3064.618</td> <td>    2.198</td> <td> 0.028</td> <td>  726.747</td> <td> 1.27e+04</td>\n",
       "</tr>\n",
       "<tr>\n",
       "  <th>bsmt_qual</th>         <td> 2136.1738</td> <td> 1604.521</td> <td>    1.331</td> <td> 0.183</td> <td>-1010.525</td> <td> 5282.872</td>\n",
       "</tr>\n",
       "<tr>\n",
       "  <th>bsmt_cond</th>         <td>-6090.5336</td> <td> 1777.742</td> <td>   -3.426</td> <td> 0.001</td> <td>-9576.945</td> <td>-2604.122</td>\n",
       "</tr>\n",
       "<tr>\n",
       "  <th>bsmt_exposure</th>     <td> 5121.7641</td> <td>  719.266</td> <td>    7.121</td> <td> 0.000</td> <td> 3711.180</td> <td> 6532.349</td>\n",
       "</tr>\n",
       "<tr>\n",
       "  <th>total_bsmt_sf</th>     <td>   -0.3150</td> <td>    4.556</td> <td>   -0.069</td> <td> 0.945</td> <td>   -9.249</td> <td>    8.619</td>\n",
       "</tr>\n",
       "<tr>\n",
       "  <th>kitchen_qual</th>      <td>-2.739e+04</td> <td> 3546.558</td> <td>   -7.722</td> <td> 0.000</td> <td>-3.43e+04</td> <td>-2.04e+04</td>\n",
       "</tr>\n",
       "<tr>\n",
       "  <th>fireplace_qu</th>      <td> 1748.8521</td> <td>  907.097</td> <td>    1.928</td> <td> 0.054</td> <td>  -30.096</td> <td> 3527.801</td>\n",
       "</tr>\n",
       "<tr>\n",
       "  <th>fireplaces</th>        <td>-1357.5511</td> <td> 3875.805</td> <td>   -0.350</td> <td> 0.726</td> <td>-8958.568</td> <td> 6243.466</td>\n",
       "</tr>\n",
       "<tr>\n",
       "  <th>year_built</th>        <td>  -60.0437</td> <td>   57.595</td> <td>   -1.043</td> <td> 0.297</td> <td> -172.995</td> <td>   52.908</td>\n",
       "</tr>\n",
       "<tr>\n",
       "  <th>year_remod/add</th>    <td> -244.3178</td> <td>  105.169</td> <td>   -2.323</td> <td> 0.020</td> <td> -450.570</td> <td>  -38.066</td>\n",
       "</tr>\n",
       "<tr>\n",
       "  <th>full_bath</th>         <td>  458.3171</td> <td> 1209.100</td> <td>    0.379</td> <td> 0.705</td> <td>-1912.904</td> <td> 2829.538</td>\n",
       "</tr>\n",
       "<tr>\n",
       "  <th>half_bath</th>         <td> 1733.1085</td> <td> 1198.721</td> <td>    1.446</td> <td> 0.148</td> <td> -617.758</td> <td> 4083.975</td>\n",
       "</tr>\n",
       "<tr>\n",
       "  <th>bedroom_abvgr</th>     <td>  375.8842</td> <td> 1245.790</td> <td>    0.302</td> <td> 0.763</td> <td>-2067.292</td> <td> 2819.060</td>\n",
       "</tr>\n",
       "<tr>\n",
       "  <th>totrms_abvgrd</th>     <td>-1106.2571</td> <td>  851.259</td> <td>   -1.300</td> <td> 0.194</td> <td>-2775.699</td> <td>  563.185</td>\n",
       "</tr>\n",
       "<tr>\n",
       "  <th>2nd_flr_sf</th>        <td>   15.9386</td> <td>   13.267</td> <td>    1.201</td> <td> 0.230</td> <td>  -10.080</td> <td>   41.957</td>\n",
       "</tr>\n",
       "<tr>\n",
       "  <th>gr_liv_area</th>       <td>  -67.8234</td> <td>   14.933</td> <td>   -4.542</td> <td> 0.000</td> <td>  -97.110</td> <td>  -38.537</td>\n",
       "</tr>\n",
       "<tr>\n",
       "  <th>bsmtfin_type_1</th>    <td> 1768.8115</td> <td>  648.821</td> <td>    2.726</td> <td> 0.006</td> <td>  496.378</td> <td> 3041.245</td>\n",
       "</tr>\n",
       "<tr>\n",
       "  <th>bsmtfin_sf_1</th>      <td>   10.6102</td> <td>    7.070</td> <td>    1.501</td> <td> 0.134</td> <td>   -3.255</td> <td>   24.475</td>\n",
       "</tr>\n",
       "<tr>\n",
       "  <th>1st_flr_sf</th>        <td>   26.4351</td> <td>   13.496</td> <td>    1.959</td> <td> 0.050</td> <td>   -0.033</td> <td>   52.903</td>\n",
       "</tr>\n",
       "<tr>\n",
       "  <th>ms_zoning</th>         <td> 2.453e+04</td> <td> 3.26e+04</td> <td>    0.752</td> <td> 0.452</td> <td>-3.94e+04</td> <td> 8.85e+04</td>\n",
       "</tr>\n",
       "<tr>\n",
       "  <th>neighborhood</th>      <td> 3.404e+04</td> <td> 3.05e+04</td> <td>    1.116</td> <td> 0.265</td> <td>-2.58e+04</td> <td> 9.39e+04</td>\n",
       "</tr>\n",
       "<tr>\n",
       "  <th>total_basement</th>    <td>    1.7696</td> <td>    0.366</td> <td>    4.840</td> <td> 0.000</td> <td>    1.053</td> <td>    2.487</td>\n",
       "</tr>\n",
       "<tr>\n",
       "  <th>bsmt_1_total</th>      <td>   -0.3382</td> <td>    1.606</td> <td>   -0.211</td> <td> 0.833</td> <td>   -3.488</td> <td>    2.812</td>\n",
       "</tr>\n",
       "<tr>\n",
       "  <th>total_garage</th>      <td>    0.6912</td> <td>    0.364</td> <td>    1.898</td> <td> 0.058</td> <td>   -0.023</td> <td>    1.405</td>\n",
       "</tr>\n",
       "<tr>\n",
       "  <th>garage_area_cars</th>  <td>   27.1707</td> <td>    4.773</td> <td>    5.692</td> <td> 0.000</td> <td>   17.809</td> <td>   36.532</td>\n",
       "</tr>\n",
       "<tr>\n",
       "  <th>social_area_qual</th>  <td>   24.1265</td> <td>    2.008</td> <td>   12.016</td> <td> 0.000</td> <td>   20.189</td> <td>   28.064</td>\n",
       "</tr>\n",
       "<tr>\n",
       "  <th>total_bath</th>        <td> 2191.4256</td> <td> 1069.530</td> <td>    2.049</td> <td> 0.041</td> <td>   93.921</td> <td> 4288.930</td>\n",
       "</tr>\n",
       "<tr>\n",
       "  <th>all_fireplace</th>     <td> 1885.2527</td> <td> 1318.219</td> <td>    1.430</td> <td> 0.153</td> <td> -699.967</td> <td> 4470.473</td>\n",
       "</tr>\n",
       "<tr>\n",
       "  <th>abv_rooms</th>         <td>    0.8919</td> <td>    0.125</td> <td>    7.140</td> <td> 0.000</td> <td>    0.647</td> <td>    1.137</td>\n",
       "</tr>\n",
       "<tr>\n",
       "  <th>overall_qual_cond</th> <td>  155.1972</td> <td>  470.419</td> <td>    0.330</td> <td> 0.742</td> <td> -767.363</td> <td> 1077.758</td>\n",
       "</tr>\n",
       "<tr>\n",
       "  <th>exter_overall</th>     <td>   -3.9536</td> <td> 3146.292</td> <td>   -0.001</td> <td> 0.999</td> <td>-6174.289</td> <td> 6166.382</td>\n",
       "</tr>\n",
       "<tr>\n",
       "  <th>ages</th>              <td>    2.6851</td> <td>    1.500</td> <td>    1.791</td> <td> 0.074</td> <td>   -0.256</td> <td>    5.626</td>\n",
       "</tr>\n",
       "<tr>\n",
       "  <th>total_sf</th>          <td> -1.65e-05</td> <td> 1.27e-06</td> <td>  -13.031</td> <td> 0.000</td> <td> -1.9e-05</td> <td> -1.4e-05</td>\n",
       "</tr>\n",
       "<tr>\n",
       "  <th>ames_zone_nbhood</th>  <td>-1.886e+04</td> <td> 3.05e+04</td> <td>   -0.618</td> <td> 0.537</td> <td>-7.87e+04</td> <td>  4.1e+04</td>\n",
       "</tr>\n",
       "</table>\n",
       "<table class=\"simpletable\">\n",
       "<tr>\n",
       "  <th>Omnibus:</th>       <td>1620.669</td> <th>  Durbin-Watson:     </th>  <td>   1.991</td> \n",
       "</tr>\n",
       "<tr>\n",
       "  <th>Prob(Omnibus):</th>  <td> 0.000</td>  <th>  Jarque-Bera (JB):  </th> <td>428074.920</td>\n",
       "</tr>\n",
       "<tr>\n",
       "  <th>Skew:</th>           <td>-2.733</td>  <th>  Prob(JB):          </th>  <td>    0.00</td> \n",
       "</tr>\n",
       "<tr>\n",
       "  <th>Kurtosis:</th>       <td>73.564</td>  <th>  Cond. No.          </th>  <td>1.08e+16</td> \n",
       "</tr>\n",
       "</table><br/><br/>Notes:<br/>[1] Standard Errors assume that the covariance matrix of the errors is correctly specified.<br/>[2] The smallest eigenvalue is 1.54e-11. This might indicate that there are<br/>strong multicollinearity problems or that the design matrix is singular."
      ],
      "text/plain": [
       "<class 'statsmodels.iolib.summary.Summary'>\n",
       "\"\"\"\n",
       "                            OLS Regression Results                            \n",
       "==============================================================================\n",
       "Dep. Variable:              saleprice   R-squared:                       0.871\n",
       "Model:                            OLS   Adj. R-squared:                  0.868\n",
       "Method:                 Least Squares   F-statistic:                     330.9\n",
       "Date:                Fri, 16 Jul 2021   Prob (F-statistic):               0.00\n",
       "Time:                        22:22:31   Log-Likelihood:                -23946.\n",
       "No. Observations:                2051   AIC:                         4.798e+04\n",
       "Df Residuals:                    2009   BIC:                         4.821e+04\n",
       "Df Model:                          41                                         \n",
       "Covariance Type:            nonrobust                                         \n",
       "=====================================================================================\n",
       "                        coef    std err          t      P>|t|      [0.025      0.975]\n",
       "-------------------------------------------------------------------------------------\n",
       "const              6750.5887   4.51e+04      0.150      0.881   -8.18e+04    9.53e+04\n",
       "overall_cond       4645.4061   2629.630      1.767      0.077    -511.680    9802.493\n",
       "overall_qual       8325.3231   2715.778      3.066      0.002    2999.287    1.37e+04\n",
       "exter_qual         8263.1978      1e+04      0.823      0.411   -1.14e+04     2.8e+04\n",
       "exter_cond         -315.2395   1.02e+04     -0.031      0.975   -2.03e+04    1.97e+04\n",
       "garage_finish     -1266.2781   1968.958     -0.643      0.520   -5127.692    2595.136\n",
       "garage_cars       -9264.4946   3321.197     -2.790      0.005   -1.58e+04   -2751.144\n",
       "garage_cond          -0.0287   3033.415  -9.46e-06      1.000   -5948.997    5948.940\n",
       "garage_area         -42.5088     12.409     -3.426      0.001     -66.844     -18.174\n",
       "garage_qual        6736.9097   3064.618      2.198      0.028     726.747    1.27e+04\n",
       "bsmt_qual          2136.1738   1604.521      1.331      0.183   -1010.525    5282.872\n",
       "bsmt_cond         -6090.5336   1777.742     -3.426      0.001   -9576.945   -2604.122\n",
       "bsmt_exposure      5121.7641    719.266      7.121      0.000    3711.180    6532.349\n",
       "total_bsmt_sf        -0.3150      4.556     -0.069      0.945      -9.249       8.619\n",
       "kitchen_qual      -2.739e+04   3546.558     -7.722      0.000   -3.43e+04   -2.04e+04\n",
       "fireplace_qu       1748.8521    907.097      1.928      0.054     -30.096    3527.801\n",
       "fireplaces        -1357.5511   3875.805     -0.350      0.726   -8958.568    6243.466\n",
       "year_built          -60.0437     57.595     -1.043      0.297    -172.995      52.908\n",
       "year_remod/add     -244.3178    105.169     -2.323      0.020    -450.570     -38.066\n",
       "full_bath           458.3171   1209.100      0.379      0.705   -1912.904    2829.538\n",
       "half_bath          1733.1085   1198.721      1.446      0.148    -617.758    4083.975\n",
       "bedroom_abvgr       375.8842   1245.790      0.302      0.763   -2067.292    2819.060\n",
       "totrms_abvgrd     -1106.2571    851.259     -1.300      0.194   -2775.699     563.185\n",
       "2nd_flr_sf           15.9386     13.267      1.201      0.230     -10.080      41.957\n",
       "gr_liv_area         -67.8234     14.933     -4.542      0.000     -97.110     -38.537\n",
       "bsmtfin_type_1     1768.8115    648.821      2.726      0.006     496.378    3041.245\n",
       "bsmtfin_sf_1         10.6102      7.070      1.501      0.134      -3.255      24.475\n",
       "1st_flr_sf           26.4351     13.496      1.959      0.050      -0.033      52.903\n",
       "ms_zoning          2.453e+04   3.26e+04      0.752      0.452   -3.94e+04    8.85e+04\n",
       "neighborhood       3.404e+04   3.05e+04      1.116      0.265   -2.58e+04    9.39e+04\n",
       "total_basement        1.7696      0.366      4.840      0.000       1.053       2.487\n",
       "bsmt_1_total         -0.3382      1.606     -0.211      0.833      -3.488       2.812\n",
       "total_garage          0.6912      0.364      1.898      0.058      -0.023       1.405\n",
       "garage_area_cars     27.1707      4.773      5.692      0.000      17.809      36.532\n",
       "social_area_qual     24.1265      2.008     12.016      0.000      20.189      28.064\n",
       "total_bath         2191.4256   1069.530      2.049      0.041      93.921    4288.930\n",
       "all_fireplace      1885.2527   1318.219      1.430      0.153    -699.967    4470.473\n",
       "abv_rooms             0.8919      0.125      7.140      0.000       0.647       1.137\n",
       "overall_qual_cond   155.1972    470.419      0.330      0.742    -767.363    1077.758\n",
       "exter_overall        -3.9536   3146.292     -0.001      0.999   -6174.289    6166.382\n",
       "ages                  2.6851      1.500      1.791      0.074      -0.256       5.626\n",
       "total_sf           -1.65e-05   1.27e-06    -13.031      0.000    -1.9e-05    -1.4e-05\n",
       "ames_zone_nbhood  -1.886e+04   3.05e+04     -0.618      0.537   -7.87e+04     4.1e+04\n",
       "==============================================================================\n",
       "Omnibus:                     1620.669   Durbin-Watson:                   1.991\n",
       "Prob(Omnibus):                  0.000   Jarque-Bera (JB):           428074.920\n",
       "Skew:                          -2.733   Prob(JB):                         0.00\n",
       "Kurtosis:                      73.564   Cond. No.                     1.08e+16\n",
       "==============================================================================\n",
       "\n",
       "Notes:\n",
       "[1] Standard Errors assume that the covariance matrix of the errors is correctly specified.\n",
       "[2] The smallest eigenvalue is 1.54e-11. This might indicate that there are\n",
       "strong multicollinearity problems or that the design matrix is singular.\n",
       "\"\"\""
      ]
     },
     "execution_count": 159,
     "metadata": {},
     "output_type": "execute_result"
    }
   ],
   "source": [
    "X = sm.add_constant(X)\n",
    "ols= sm.OLS(y, X).fit()\n",
    "ols.summary()"
   ]
  },
  {
   "cell_type": "markdown",
   "id": "efd2fe40-d114-4f97-bb90-0921ec716694",
   "metadata": {},
   "source": [
    "### Standard Scaler"
   ]
  },
  {
   "cell_type": "code",
   "execution_count": 160,
   "id": "abcf11f2-b9e8-488a-9644-515e035c788e",
   "metadata": {},
   "outputs": [],
   "source": [
    "# instantiate standard scaler\n",
    "sc = StandardScaler()\n",
    "\n",
    "# fit and transform X train\n",
    "Z_train = sc.fit_transform(X_train)\n",
    "\n",
    "# transform X test\n",
    "Z_test = sc.transform(X_test)"
   ]
  },
  {
   "cell_type": "code",
   "execution_count": 161,
   "id": "dd86e7ee-6ce5-4228-8f41-bbcce279fef8",
   "metadata": {},
   "outputs": [
    {
     "data": {
      "text/plain": [
       "LinearRegression()"
      ]
     },
     "execution_count": 161,
     "metadata": {},
     "output_type": "execute_result"
    }
   ],
   "source": [
    "# fit linear regression on scaled training data\n",
    "linreg.fit(Z_train, y_train)"
   ]
  },
  {
   "cell_type": "code",
   "execution_count": 162,
   "id": "f29e6ddc-8b08-456d-9707-4e85fbdf1c16",
   "metadata": {},
   "outputs": [
    {
     "data": {
      "text/plain": [
       "0.8638041850801117"
      ]
     },
     "execution_count": 162,
     "metadata": {},
     "output_type": "execute_result"
    }
   ],
   "source": [
    "# Score linear regression on scaled training data\n",
    "linreg.score(Z_train, y_train)"
   ]
  },
  {
   "cell_type": "code",
   "execution_count": 163,
   "id": "02d9f5c7-b24d-4007-bdc3-319fad4e4a7c",
   "metadata": {},
   "outputs": [
    {
     "data": {
      "text/plain": [
       "0.8965422416820092"
      ]
     },
     "execution_count": 163,
     "metadata": {},
     "output_type": "execute_result"
    }
   ],
   "source": [
    "# Score linear regression on scaled testing data \n",
    "linreg.score(Z_test,y_test)"
   ]
  },
  {
   "cell_type": "code",
   "execution_count": 164,
   "id": "0484b345-6a26-4807-92f0-60a2a9564889",
   "metadata": {},
   "outputs": [
    {
     "data": {
      "text/plain": [
       "0.6840310564953798"
      ]
     },
     "execution_count": 164,
     "metadata": {},
     "output_type": "execute_result"
    }
   ],
   "source": [
    "# Cross value score on scaled data\n",
    "cross_val_score(linreg, Z_train, y_train).mean()"
   ]
  },
  {
   "cell_type": "code",
   "execution_count": 165,
   "id": "54a49df9-64df-4f2b-898b-64c776c76118",
   "metadata": {},
   "outputs": [],
   "source": [
    "y_preds = linreg.predict(Z_train)"
   ]
  },
  {
   "cell_type": "code",
   "execution_count": 166,
   "id": "0e3603f3-c9ca-43cf-a1f2-fb19abe6bd69",
   "metadata": {},
   "outputs": [
    {
     "data": {
      "text/plain": [
       "29438.55801333187"
      ]
     },
     "execution_count": 166,
     "metadata": {},
     "output_type": "execute_result"
    }
   ],
   "source": [
    "mrse = metrics.mean_squared_error(y_true=y_train, y_pred=y_preds)**0.5\n",
    "mrse"
   ]
  },
  {
   "cell_type": "code",
   "execution_count": 167,
   "id": "61fede69-2b6f-4e4b-b8da-01b35b45db13",
   "metadata": {},
   "outputs": [
    {
     "data": {
      "image/png": "[encoded data removed]",
      "text/plain": [
       "<Figure size 432x288 with 1 Axes>"
      ]
     },
     "metadata": {
      "needs_background": "light"
     },
     "output_type": "display_data"
    }
   ],
   "source": [
    "fig,ax = plt.subplots()\n",
    "ax.scatter(y_train, y_preds)\n",
    "ax.plot([y.min(),y.max()], [y.min(),y.max()], 'k--')\n",
    "ax.set_xlabel('')\n",
    "ax.set_ylabel('Predicted')\n",
    "plt.axhline(y_train.mean(), c='magenta')\n",
    "plt.title('Scaled Ordinary Least Squares');\n",
    "plt.style.use('seaborn-bright')"
   ]
  },
  {
   "cell_type": "markdown",
   "id": "c51aa752-a259-4dc7-b43d-495bb1de5d4a",
   "metadata": {},
   "source": [
    "## Regularization"
   ]
  },
  {
   "cell_type": "code",
   "execution_count": 168,
   "id": "d662fcec-a65e-4fb1-bbd5-121dbf0657a3",
   "metadata": {},
   "outputs": [
    {
     "data": {
      "text/plain": [
       "0.8526190938326743"
      ]
     },
     "execution_count": 168,
     "metadata": {},
     "output_type": "execute_result"
    }
   ],
   "source": [
    "# Instantiate ridge regularization\n",
    "ridge = Ridge(alpha=200)\n",
    "# Fit ridge on scaled training data\n",
    "ridge.fit(Z_train, y_train)\n",
    "# Evaluate model using R2.\n",
    "ridge.score(Z_train, y_train)"
   ]
  },
  {
   "cell_type": "code",
   "execution_count": 169,
   "id": "3b7c0cb2-534e-43f8-9a5a-bb50069704a6",
   "metadata": {},
   "outputs": [
    {
     "data": {
      "text/plain": [
       "0.7713535966529237"
      ]
     },
     "execution_count": 169,
     "metadata": {},
     "output_type": "execute_result"
    }
   ],
   "source": [
    "cross_val_score(ridge, Z_train, y_train).mean()"
   ]
  },
  {
   "cell_type": "code",
   "execution_count": 170,
   "id": "62b353ea-f36b-43db-abd9-17e42a2cf39c",
   "metadata": {},
   "outputs": [
    {
     "data": {
      "text/plain": [
       "0.8870004608054068"
      ]
     },
     "execution_count": 170,
     "metadata": {},
     "output_type": "execute_result"
    }
   ],
   "source": [
    "# Score ridge on scaled test data\n",
    "ridge.score(Z_test,y_test)"
   ]
  },
  {
   "cell_type": "code",
   "execution_count": 171,
   "id": "3d4efdf8-e574-497e-b8b2-aff85767464e",
   "metadata": {},
   "outputs": [],
   "source": [
    "# Create list of ridge alphas to test\n",
    "r_alphas = np.logspace(0,5), 100\n",
    "# Cross-validate over our list of ridge alphas\n",
    "ridge_cv = RidgeCV(alphas=r_alphas, scoring='r2', cv=5)\n",
    "# Fit model using best ridge alpha\n",
    "ridge_cv = ridge_cv.fit(Z_train, y_train)"
   ]
  },
  {
   "cell_type": "code",
   "execution_count": 172,
   "id": "1b5507c8-aa45-481e-a146-2e26f3580bf5",
   "metadata": {},
   "outputs": [
    {
     "data": {
      "text/plain": [
       "0.8559483334996848"
      ]
     },
     "execution_count": 172,
     "metadata": {},
     "output_type": "execute_result"
    }
   ],
   "source": [
    "# Score ridge cross-validate on scaled training data\n",
    "ridge_cv.score(Z_train,y_train)"
   ]
  },
  {
   "cell_type": "code",
   "execution_count": 173,
   "id": "db313f48-2dce-4350-ada2-05981f598f58",
   "metadata": {},
   "outputs": [
    {
     "data": {
      "text/plain": [
       "0.8890605831799867"
      ]
     },
     "execution_count": 173,
     "metadata": {},
     "output_type": "execute_result"
    }
   ],
   "source": [
    "# Score ridge cross validate on scaled testing data\n",
    "ridge_cv.score(Z_test,y_test)"
   ]
  },
  {
   "cell_type": "markdown",
   "id": "e0c5e7be-1249-444b-9c50-a80466c148d7",
   "metadata": {},
   "source": [
    "## Lasso Regularization "
   ]
  },
  {
   "cell_type": "code",
   "execution_count": 174,
   "id": "fc6bd1fc-c6eb-4872-acb4-f697e3117398",
   "metadata": {},
   "outputs": [],
   "source": [
    "# Set up a list of Lasso alphas to test\n",
    "l_alphas = np.logspace(-3,0,100)\n",
    "# Cross-validate over our list of Lasso alphas\n",
    "lasso_cv = LassoCV(alphas = l_alphas, cv=5, max_iter=50_000)\n",
    "# Fit model using best lasso alpha\n",
    "lasso_cv.fit(Z_train, y_train);"
   ]
  },
  {
   "cell_type": "code",
   "execution_count": 175,
   "id": "59af250d-2555-4658-aa12-ec01e47d6aad",
   "metadata": {},
   "outputs": [
    {
     "name": "stdout",
     "output_type": "stream",
     "text": [
      "0.8638031595466438\n",
      "0.8965585297650924\n"
     ]
    }
   ],
   "source": [
    "# Score & print best lasso alpha on scaled training data\n",
    "print(lasso_cv.score(Z_train, y_train))\n",
    "# Score & print best lasso alpha on scaled testing data\n",
    "print(lasso_cv.score(Z_test, y_test))"
   ]
  },
  {
   "cell_type": "code",
   "execution_count": 176,
   "id": "3458a031-e85c-4ffb-a153-95ca62462a90",
   "metadata": {},
   "outputs": [
    {
     "name": "stdout",
     "output_type": "stream",
     "text": [
      "====== OLS =======\n",
      "0.8638041850801117\n",
      "0.8965422416820092\n",
      "\n",
      "===== Ridge ======\n",
      "0.8559483334996848\n",
      "0.8890605831799867\n",
      "\n",
      "===== Lasso ======\n",
      "0.8638031595466438\n",
      "0.8965585297650924\n"
     ]
    }
   ],
   "source": [
    "# Print OLS, Ridge, and Lasso scores for scaled testing and training data for comparison\n",
    "print(\" OLS \".center(18, \"=\"))\n",
    "print(linreg.score(Z_train, y_train))\n",
    "print(linreg.score(Z_test, y_test))\n",
    "print()\n",
    "print(\" Ridge \".center(18, \"=\"))\n",
    "print(ridge_cv.score(Z_train, y_train))\n",
    "print(ridge_cv.score(Z_test, y_test))\n",
    "print()\n",
    "print(\" Lasso \".center(18, \"=\"))\n",
    "print(lasso_cv.score(Z_train, y_train))\n",
    "print(lasso_cv.score(Z_test, y_test))"
   ]
  },
  {
   "cell_type": "markdown",
   "id": "8bfd8396-56d6-48a2-8db8-0d96cf3a6ba4",
   "metadata": {},
   "source": [
    "> The OLS and Lasso are scoring the best and similarly\n",
    "\n",
    "> Not over fit"
   ]
  },
  {
   "cell_type": "markdown",
   "id": "f8d3d558-c047-4d18-83ad-a228fd239d02",
   "metadata": {},
   "source": [
    "#### Read in test data"
   ]
  },
  {
   "cell_type": "code",
   "execution_count": 177,
   "id": "7322fdf6-a30e-4c8a-8079-9f12f5d60d3f",
   "metadata": {},
   "outputs": [
    {
     "data": {
      "text/html": [
       "<div>\n",
       "<style scoped>\n",
       "    .dataframe tbody tr th:only-of-type {\n",
       "        vertical-align: middle;\n",
       "    }\n",
       "\n",
       "    .dataframe tbody tr th {\n",
       "        vertical-align: top;\n",
       "    }\n",
       "\n",
       "    .dataframe thead th {\n",
       "        text-align: right;\n",
       "    }\n",
       "</style>\n",
       "<table border=\"1\" class=\"dataframe\">\n",
       "  <thead>\n",
       "    <tr style=\"text-align: right;\">\n",
       "      <th></th>\n",
       "      <th>Id</th>\n",
       "      <th>PID</th>\n",
       "      <th>MS SubClass</th>\n",
       "      <th>MS Zoning</th>\n",
       "      <th>Lot Frontage</th>\n",
       "      <th>Lot Area</th>\n",
       "      <th>Street</th>\n",
       "      <th>Alley</th>\n",
       "      <th>Lot Shape</th>\n",
       "      <th>Land Contour</th>\n",
       "      <th>...</th>\n",
       "      <th>3Ssn Porch</th>\n",
       "      <th>Screen Porch</th>\n",
       "      <th>Pool Area</th>\n",
       "      <th>Pool QC</th>\n",
       "      <th>Fence</th>\n",
       "      <th>Misc Feature</th>\n",
       "      <th>Misc Val</th>\n",
       "      <th>Mo Sold</th>\n",
       "      <th>Yr Sold</th>\n",
       "      <th>Sale Type</th>\n",
       "    </tr>\n",
       "  </thead>\n",
       "  <tbody>\n",
       "    <tr>\n",
       "      <th>0</th>\n",
       "      <td>2658</td>\n",
       "      <td>902301120</td>\n",
       "      <td>190</td>\n",
       "      <td>RM</td>\n",
       "      <td>69.0</td>\n",
       "      <td>9142</td>\n",
       "      <td>Pave</td>\n",
       "      <td>Grvl</td>\n",
       "      <td>Reg</td>\n",
       "      <td>Lvl</td>\n",
       "      <td>...</td>\n",
       "      <td>0</td>\n",
       "      <td>0</td>\n",
       "      <td>0</td>\n",
       "      <td>NaN</td>\n",
       "      <td>NaN</td>\n",
       "      <td>NaN</td>\n",
       "      <td>0</td>\n",
       "      <td>4</td>\n",
       "      <td>2006</td>\n",
       "      <td>WD</td>\n",
       "    </tr>\n",
       "    <tr>\n",
       "      <th>1</th>\n",
       "      <td>2718</td>\n",
       "      <td>905108090</td>\n",
       "      <td>90</td>\n",
       "      <td>RL</td>\n",
       "      <td>NaN</td>\n",
       "      <td>9662</td>\n",
       "      <td>Pave</td>\n",
       "      <td>NaN</td>\n",
       "      <td>IR1</td>\n",
       "      <td>Lvl</td>\n",
       "      <td>...</td>\n",
       "      <td>0</td>\n",
       "      <td>0</td>\n",
       "      <td>0</td>\n",
       "      <td>NaN</td>\n",
       "      <td>NaN</td>\n",
       "      <td>NaN</td>\n",
       "      <td>0</td>\n",
       "      <td>8</td>\n",
       "      <td>2006</td>\n",
       "      <td>WD</td>\n",
       "    </tr>\n",
       "    <tr>\n",
       "      <th>2</th>\n",
       "      <td>2414</td>\n",
       "      <td>528218130</td>\n",
       "      <td>60</td>\n",
       "      <td>RL</td>\n",
       "      <td>58.0</td>\n",
       "      <td>17104</td>\n",
       "      <td>Pave</td>\n",
       "      <td>NaN</td>\n",
       "      <td>IR1</td>\n",
       "      <td>Lvl</td>\n",
       "      <td>...</td>\n",
       "      <td>0</td>\n",
       "      <td>0</td>\n",
       "      <td>0</td>\n",
       "      <td>NaN</td>\n",
       "      <td>NaN</td>\n",
       "      <td>NaN</td>\n",
       "      <td>0</td>\n",
       "      <td>9</td>\n",
       "      <td>2006</td>\n",
       "      <td>New</td>\n",
       "    </tr>\n",
       "    <tr>\n",
       "      <th>3</th>\n",
       "      <td>1989</td>\n",
       "      <td>902207150</td>\n",
       "      <td>30</td>\n",
       "      <td>RM</td>\n",
       "      <td>60.0</td>\n",
       "      <td>8520</td>\n",
       "      <td>Pave</td>\n",
       "      <td>NaN</td>\n",
       "      <td>Reg</td>\n",
       "      <td>Lvl</td>\n",
       "      <td>...</td>\n",
       "      <td>0</td>\n",
       "      <td>0</td>\n",
       "      <td>0</td>\n",
       "      <td>NaN</td>\n",
       "      <td>NaN</td>\n",
       "      <td>NaN</td>\n",
       "      <td>0</td>\n",
       "      <td>7</td>\n",
       "      <td>2007</td>\n",
       "      <td>WD</td>\n",
       "    </tr>\n",
       "    <tr>\n",
       "      <th>4</th>\n",
       "      <td>625</td>\n",
       "      <td>535105100</td>\n",
       "      <td>20</td>\n",
       "      <td>RL</td>\n",
       "      <td>NaN</td>\n",
       "      <td>9500</td>\n",
       "      <td>Pave</td>\n",
       "      <td>NaN</td>\n",
       "      <td>IR1</td>\n",
       "      <td>Lvl</td>\n",
       "      <td>...</td>\n",
       "      <td>0</td>\n",
       "      <td>185</td>\n",
       "      <td>0</td>\n",
       "      <td>NaN</td>\n",
       "      <td>NaN</td>\n",
       "      <td>NaN</td>\n",
       "      <td>0</td>\n",
       "      <td>7</td>\n",
       "      <td>2009</td>\n",
       "      <td>WD</td>\n",
       "    </tr>\n",
       "  </tbody>\n",
       "</table>\n",
       "<p>5 rows × 80 columns</p>\n",
       "</div>"
      ],
      "text/plain": [
       "     Id        PID  MS SubClass MS Zoning  Lot Frontage  Lot Area Street  \\\n",
       "0  2658  902301120          190        RM          69.0      9142   Pave   \n",
       "1  2718  905108090           90        RL           NaN      9662   Pave   \n",
       "2  2414  528218130           60        RL          58.0     17104   Pave   \n",
       "3  1989  902207150           30        RM          60.0      8520   Pave   \n",
       "4   625  535105100           20        RL           NaN      9500   Pave   \n",
       "\n",
       "  Alley Lot Shape Land Contour  ... 3Ssn Porch Screen Porch Pool Area Pool QC  \\\n",
       "0  Grvl       Reg          Lvl  ...          0            0         0     NaN   \n",
       "1   NaN       IR1          Lvl  ...          0            0         0     NaN   \n",
       "2   NaN       IR1          Lvl  ...          0            0         0     NaN   \n",
       "3   NaN       Reg          Lvl  ...          0            0         0     NaN   \n",
       "4   NaN       IR1          Lvl  ...          0          185         0     NaN   \n",
       "\n",
       "  Fence Misc Feature Misc Val Mo Sold  Yr Sold  Sale Type  \n",
       "0   NaN          NaN        0       4     2006        WD   \n",
       "1   NaN          NaN        0       8     2006        WD   \n",
       "2   NaN          NaN        0       9     2006        New  \n",
       "3   NaN          NaN        0       7     2007        WD   \n",
       "4   NaN          NaN        0       7     2009        WD   \n",
       "\n",
       "[5 rows x 80 columns]"
      ]
     },
     "execution_count": 177,
     "metadata": {},
     "output_type": "execute_result"
    }
   ],
   "source": [
    "# Read in test data\n",
    "test = pd.read_csv('datasets/test.csv')\n",
    "# Display first 5 rows of test data\n",
    "test.head()"
   ]
  },
  {
   "cell_type": "code",
   "execution_count": 178,
   "id": "7fe07495-1963-4e74-a891-9fae0def962d",
   "metadata": {},
   "outputs": [],
   "source": [
    "# clean column names with no spaces and all lower case\n",
    "test.columns = test.columns.str.lower().str.replace(' ', '_')"
   ]
  },
  {
   "cell_type": "code",
   "execution_count": 179,
   "id": "80086827-d7d9-4a9d-bc14-09c56aae9201",
   "metadata": {},
   "outputs": [],
   "source": [
    "# Execute pipe function on test data\n",
    "X,y = custom_pipe(test)"
   ]
  },
  {
   "cell_type": "code",
   "execution_count": 180,
   "id": "da6d7afe-6c1e-4e73-bb1e-87b1aad8a7de",
   "metadata": {},
   "outputs": [
    {
     "data": {
      "text/plain": [
       "array([-1.41131402e+13,  6.43324757e+08, -5.39725405e+12,  2.70068379e+08,\n",
       "        4.55662972e+08, -2.43151393e+12,  2.65681321e+08,  4.97159819e+08,\n",
       "       -8.85463989e+12,  3.46879598e+08,  4.67498664e+08,  2.85728610e+08,\n",
       "        3.81819523e+08, -3.29966320e+13, -1.04361408e+13,  2.26575074e+08,\n",
       "       -6.44417829e+12,  2.91429138e+08,  4.46415047e+08, -1.03537184e+13,\n",
       "        3.39599167e+08,  2.73932635e+08,  6.07163395e+08,  2.84501009e+08,\n",
       "        4.78063784e+08,  2.36090629e+08, -6.25313573e+12, -6.83914565e+12,\n",
       "        3.71135520e+08, -5.56949915e+11,  2.51860881e+08,  3.07518759e+08,\n",
       "       -3.22785196e+13,  4.32639698e+08,  5.74398637e+08, -4.69381281e+12,\n",
       "       -1.00239115e+13,  1.89307670e+08,  2.33795408e+08,  5.03238092e+08,\n",
       "       -3.42418808e+12, -1.23522592e+13,  4.28508298e+08,  3.20670710e+08,\n",
       "        5.86965061e+08, -3.55387148e+12, -1.09502649e+13,  2.47467029e+08,\n",
       "        2.74814482e+08,  3.04375676e+08, -4.17498185e+12, -6.64398039e+12,\n",
       "        6.65101223e+08, -5.36549818e+12, -1.83884594e+12,  3.64651119e+08,\n",
       "       -1.19308124e+13,  3.30688369e+08,  3.34781566e+08, -1.28342196e+13,\n",
       "        8.40150139e+08,  3.01997580e+08,  3.07250635e+08, -8.59183767e+12,\n",
       "       -7.30233254e+12,  8.38721071e+08,  2.17319578e+08,  5.12488125e+08,\n",
       "        2.16107473e+08,  3.34055813e+08,  2.03871620e+08, -3.43813659e+13,\n",
       "        5.11059466e+08, -3.08217088e+12,  3.14068857e+08,  5.35531162e+08,\n",
       "        2.93308693e+08,  3.19558044e+08,  1.67577090e+08,  9.05637350e+08,\n",
       "        5.53908383e+08, -2.59583388e+12, -4.73097098e+12, -5.18830533e+12,\n",
       "       -6.07640368e+12,  1.06583686e+09,  2.56882994e+08,  4.17420328e+08,\n",
       "        5.35900802e+08,  3.50223357e+08,  3.20360289e+08, -3.66255697e+12,\n",
       "       -4.33216162e+12,  4.88669540e+08, -4.32290639e+12, -7.23647446e+12,\n",
       "        4.86926499e+08,  6.63500636e+08, -8.68465956e+12, -8.38029291e+12,\n",
       "        8.41459468e+08,  4.58748538e+08,  2.39392961e+08,  1.20497700e+09,\n",
       "        3.33954016e+08,  2.49932798e+08, -5.83489818e+12, -1.42146969e+13,\n",
       "        5.24310864e+08,  4.58404501e+08,  4.21684255e+08, -1.36457102e+13,\n",
       "        2.45815194e+08,  3.18948160e+08,  5.60509575e+08, -9.48208743e+13,\n",
       "       -4.32866687e+12, -3.98438585e+12,  8.51192856e+08, -8.68517786e+12,\n",
       "        1.03425092e+09, -1.54311427e+13,  7.12670400e+08, -6.36666059e+12,\n",
       "       -9.00733003e+12, -2.73910363e+13,  2.45041771e+08,  3.22213112e+08,\n",
       "       -3.10441161e+12,  6.53019242e+08,  3.15232956e+08, -9.23293435e+12,\n",
       "       -5.57582902e+12,  3.55634283e+08, -6.66375808e+12, -2.53916617e+13,\n",
       "        5.07693106e+08,  4.19445259e+08,  5.12535332e+08,  2.65306773e+08,\n",
       "        4.79443253e+08,  3.44438651e+08, -6.08776266e+12,  4.26161511e+08,\n",
       "        2.72952527e+08, -1.37680593e+13, -1.18138899e+13, -4.98551859e+12,\n",
       "       -1.65041604e+12,  6.52579197e+08, -9.50213415e+12, -9.30395423e+12,\n",
       "       -1.61073254e+12,  2.50906742e+08,  2.48027782e+08,  2.93315302e+08,\n",
       "       -2.43152863e+12,  3.16961241e+08, -1.82755902e+13, -2.00867636e+13,\n",
       "        5.80586344e+08, -3.80649005e+12,  2.76460847e+08,  1.26977641e+09,\n",
       "        6.84548459e+08,  6.32858514e+08,  4.18101160e+08,  4.55219080e+08,\n",
       "       -1.86972361e+13,  5.23301258e+08, -1.78221167e+14,  3.55207876e+08,\n",
       "        4.95676025e+08, -2.90359766e+12, -9.34508974e+12, -9.59399976e+12,\n",
       "        2.52254454e+08,  5.53665173e+08, -2.43148918e+12,  3.45097957e+08,\n",
       "       -9.21782276e+12, -1.20098583e+13, -1.75750626e+13, -6.13470886e+12,\n",
       "        3.99381188e+08, -3.26997977e+12, -6.43097229e+12, -1.74350514e+13,\n",
       "        2.78906870e+08,  1.28852015e+08, -8.60381881e+12,  2.89892034e+08,\n",
       "        2.22324607e+08,  2.98401415e+08, -6.42029886e+12,  3.07766036e+08,\n",
       "       -1.25213201e+13, -6.95375973e+12, -4.71519229e+12,  2.70838058e+08,\n",
       "       -3.32284855e+13, -1.97158156e+13,  2.51640521e+08, -9.07957681e+12,\n",
       "       -3.66761212e+12,  1.98106529e+08, -6.56346367e+12, -3.73307091e+12,\n",
       "        5.77072907e+08, -1.24054144e+13, -1.00156644e+13, -1.18425122e+13,\n",
       "       -4.61471967e+12,  6.46352256e+08,  6.70922757e+08, -9.41292301e+12,\n",
       "        5.60876573e+08, -4.68925488e+12,  2.75277762e+08,  3.44745324e+08,\n",
       "       -5.43906878e+12,  3.05227181e+08, -9.31245332e+12, -6.12249620e+12,\n",
       "        2.53547116e+08,  3.51076354e+08, -2.20928541e+13, -1.43344291e+13,\n",
       "        3.38695992e+08, -2.57303756e+13,  2.94161934e+08,  1.80515389e+08,\n",
       "       -8.41909190e+12,  2.17282921e+08, -3.75804505e+13, -5.75635245e+12,\n",
       "        2.07054148e+08, -4.65532954e+13,  1.09430356e+09,  6.25635852e+08,\n",
       "       -1.46102212e+13,  3.96231946e+08, -2.48201660e+13, -2.29979067e+13,\n",
       "        9.94549880e+08,  6.77056946e+08,  2.05983844e+08,  2.57498627e+08,\n",
       "       -1.17152087e+13,  8.70985930e+08,  6.17133848e+08, -6.74597434e+12,\n",
       "       -1.68969447e+13, -1.46870234e+13,  5.17001597e+08, -3.43611003e+12,\n",
       "       -2.37154301e+12, -4.48986031e+13, -1.39144718e+13,  5.88890415e+08,\n",
       "       -2.68847961e+12, -6.76712911e+12, -3.68334441e+12,  3.37382351e+08,\n",
       "       -1.30431327e+13, -9.40721532e+12,  3.61189735e+08, -8.55226352e+12,\n",
       "        3.89189357e+08,  3.13622313e+08, -2.35608838e+13, -7.14151676e+12,\n",
       "       -6.78859298e+12, -3.16564037e+13,  2.61053229e+08,  3.51650679e+08,\n",
       "        3.51270763e+08,  5.20883416e+08,  1.99347218e+08,  2.86031692e+08,\n",
       "       -1.08178989e+13, -5.46443293e+12,  2.73629002e+08, -1.12859844e+12,\n",
       "       -3.32997464e+12, -1.23949901e+13, -1.95522941e+13, -1.75638736e+12,\n",
       "        1.84368270e+08,  3.22752349e+08,  2.41934345e+08,  5.31148977e+08,\n",
       "       -2.43149068e+12,  1.86316772e+08,  3.79272368e+08,  3.34050585e+08,\n",
       "       -7.45604764e+12, -1.69108381e+13,  6.02615867e+08, -7.52034945e+12,\n",
       "       -1.40178569e+13,  9.06266991e+08,  2.82408251e+08, -1.36197449e+13,\n",
       "        1.69520081e+08,  2.55679121e+08, -6.05463006e+12,  5.67315892e+08,\n",
       "        3.81580348e+08,  2.75804010e+08, -2.31256595e+13,  5.42212941e+08,\n",
       "        6.44243689e+08, -2.18407683e+13,  1.99403422e+09,  9.41064035e+08,\n",
       "        9.34379051e+08,  7.00871308e+08, -1.88254139e+13, -2.32254978e+12,\n",
       "        1.68115850e+08, -5.01845185e+12, -1.04580670e+13,  6.41637646e+08,\n",
       "        2.95418974e+08,  3.24166846e+08,  3.34664086e+08,  4.54690084e+08,\n",
       "       -1.38893019e+13, -7.58185302e+12,  4.99445398e+08, -9.11900924e+12,\n",
       "       -1.27625064e+13,  4.21829643e+08,  1.91970423e+08, -9.61718266e+12,\n",
       "        1.88986064e+08, -7.51755013e+12,  2.56300567e+08,  3.35485390e+08,\n",
       "        5.41486491e+08, -6.19195693e+12,  2.94368201e+08, -8.47869032e+12,\n",
       "       -2.39610275e+13, -1.23981286e+13, -9.61653837e+12,  2.48280778e+08,\n",
       "       -6.51184283e+12,  3.07695335e+08, -1.32038413e+13, -4.99029561e+12,\n",
       "       -3.68334419e+12,  6.69535435e+08,  3.64758698e+08, -2.17423803e+13,\n",
       "       -6.39792052e+12,  5.86877350e+08, -1.74059988e+13, -6.14196419e+12,\n",
       "       -7.15206278e+12,  4.01882544e+08, -3.72383681e+12,  5.14962711e+08,\n",
       "        5.12231548e+08,  6.23845467e+08,  5.34016655e+08,  6.27969088e+08,\n",
       "       -1.37585193e+13,  2.97107420e+08, -3.01555661e+13, -1.75636635e+12,\n",
       "       -9.24322222e+12, -4.65921403e+13,  2.34734179e+08,  7.77034128e+08,\n",
       "       -6.38670956e+12,  6.73411723e+08,  5.14756936e+08,  3.90763870e+08,\n",
       "       -8.85445556e+12, -1.23222845e+13,  9.18571407e+08, -2.66416555e+13,\n",
       "       -1.24346726e+13,  4.88959405e+08, -1.63100881e+13, -6.79247433e+12,\n",
       "        3.17253912e+08, -4.14242041e+12, -2.33449154e+12,  8.77468751e+08,\n",
       "       -5.82898930e+12, -7.55878390e+12,  5.16545129e+08,  1.99701807e+08,\n",
       "        5.17671813e+08, -6.81265248e+12,  2.83871577e+08,  4.05867464e+08,\n",
       "       -6.06061008e+12,  6.14528992e+08, -4.68331136e+12,  7.59127842e+08,\n",
       "        3.58901992e+08,  2.76597827e+08, -8.90551286e+12, -1.17469002e+13,\n",
       "       -1.41472366e+13,  3.07513192e+08,  2.81876102e+08, -6.62627776e+12,\n",
       "       -2.71942343e+13,  3.10698960e+08, -1.93454867e+13, -3.11986183e+13,\n",
       "       -4.26703889e+12, -2.86738308e+13,  2.60902388e+08,  4.39433950e+08,\n",
       "        7.03261093e+08,  3.09866219e+08, -2.31389292e+13, -3.37448598e+12,\n",
       "        6.37316058e+08,  1.02094161e+09,  4.90538665e+08, -9.34822546e+12,\n",
       "        2.43318989e+08,  6.82300865e+08,  3.18107935e+08,  2.86765824e+08,\n",
       "        3.12682279e+08, -7.99768882e+12, -2.11627604e+12, -2.44006287e+13,\n",
       "        5.16983664e+08, -5.30167960e+12, -2.30780370e+12,  3.41927664e+08,\n",
       "       -1.10141790e+13,  3.35851236e+08, -2.69758198e+12,  4.03556287e+08,\n",
       "        3.61755431e+08,  5.54892544e+08, -2.83467224e+12,  2.55518861e+08,\n",
       "       -2.89199187e+13,  4.91673559e+08, -1.06877747e+13,  6.89593245e+08,\n",
       "        5.13526205e+08, -1.09306292e+13, -6.80486394e+12, -1.18420404e+13,\n",
       "        5.15428439e+08,  2.13326679e+08, -1.24237271e+13,  2.03833693e+08,\n",
       "       -3.14047681e+12,  2.93605604e+08, -4.47702564e+12, -1.67056488e+14,\n",
       "        3.34610798e+08, -1.19177289e+13, -1.66547596e+13, -2.11001341e+13,\n",
       "        2.24669760e+08,  2.17893567e+08,  3.66673929e+08,  6.64844264e+08,\n",
       "       -6.04084834e+12,  2.49546653e+08, -1.31528400e+13,  5.95029107e+08,\n",
       "        2.08222088e+08, -7.63464057e+12,  2.68380681e+08,  5.06687732e+08,\n",
       "        1.50190312e+08, -1.77757754e+13,  2.52989008e+08, -6.14859384e+12,\n",
       "       -3.50729169e+13,  3.23395714e+08,  3.51271712e+08,  4.83936117e+08,\n",
       "        5.08689344e+08, -4.69558850e+12, -2.03404102e+13,  5.83991253e+08,\n",
       "       -2.10416425e+13, -1.79966371e+13, -2.36947963e+13,  5.35014321e+08,\n",
       "       -3.95000029e+12, -5.41692043e+12, -1.09441188e+13,  3.48653239e+08,\n",
       "       -6.10270342e+12, -8.81257388e+12,  4.08743040e+08,  4.66499927e+08,\n",
       "        6.76851582e+08,  2.31858464e+08, -2.32532860e+13,  1.99492236e+08,\n",
       "       -1.67119685e+12, -1.54031723e+13, -8.52413465e+12, -5.24551770e+12,\n",
       "       -4.55365646e+12,  2.71507404e+08,  1.22379350e+08,  3.99489044e+08,\n",
       "        3.66906889e+08, -6.09767103e+12,  8.15130303e+08, -2.79382715e+13,\n",
       "        2.59358603e+08, -6.97458956e+12, -8.08487453e+12,  2.98833377e+08,\n",
       "        6.00144842e+08, -4.00281798e+13,  4.26701902e+08,  2.56920614e+08,\n",
       "       -5.56299705e+12,  1.63507846e+08,  2.28022473e+08, -7.62765372e+12,\n",
       "        3.10997660e+08,  4.83834489e+08, -8.14697304e+12, -5.40783754e+12,\n",
       "       -2.43152861e+12, -1.42762826e+13,  3.42019557e+08,  5.31746750e+08,\n",
       "        2.92712446e+08,  2.32799944e+08,  1.94429928e+08,  3.61514471e+08,\n",
       "       -1.14318036e+13, -2.56800301e+13, -1.81390422e+13,  2.75764412e+08,\n",
       "       -1.75637086e+12,  7.45345962e+08, -3.85490094e+12, -2.10657163e+13,\n",
       "        1.33391591e+08, -1.69584236e+13,  6.28040387e+08,  2.05127612e+08,\n",
       "        2.84132166e+08, -7.18472167e+12, -2.72843099e+12, -8.01241624e+12,\n",
       "        2.54364622e+08, -3.64703044e+12,  5.17057757e+08,  3.16801866e+08,\n",
       "        3.52507992e+08,  2.81793240e+08,  3.76524767e+08,  6.70720016e+08,\n",
       "        3.02298191e+08, -3.37733140e+12,  4.27297148e+08,  2.97302995e+08,\n",
       "        2.41293523e+08,  2.70942570e+08,  4.32464556e+08,  2.38575386e+08,\n",
       "        4.46302042e+08,  3.34085099e+08, -1.70746484e+13, -2.45650997e+12,\n",
       "       -3.04102650e+12,  3.46820890e+08, -2.21059958e+13,  1.62494667e+08,\n",
       "        3.48933809e+08,  3.69414114e+08,  3.93587262e+08,  2.73428710e+08,\n",
       "        7.37833069e+08,  5.71647665e+08, -1.44013215e+12,  2.25505807e+08,\n",
       "        3.24421842e+08, -6.73810094e+12,  9.21480602e+08, -1.12890614e+13,\n",
       "       -4.95524586e+12,  3.54971231e+08,  2.72819548e+08,  9.01816615e+08,\n",
       "       -6.02897825e+12, -1.23278755e+13,  2.83162563e+08, -7.36514107e+12,\n",
       "        6.02627526e+08,  2.10030947e+08,  2.87922948e+08,  3.04543814e+08,\n",
       "        4.62531807e+08, -4.50875267e+12, -2.39246866e+12, -4.37309580e+13,\n",
       "        5.41723194e+08,  2.57123416e+08, -4.70765938e+12,  1.03316679e+08,\n",
       "        5.14626494e+08, -1.99506679e+13,  1.15179284e+08, -2.91245640e+12,\n",
       "        4.88034306e+08,  2.65150370e+08, -1.57452922e+13,  2.12510891e+08,\n",
       "       -5.76374681e+12,  3.55133082e+08, -6.00456067e+12,  3.04852294e+08,\n",
       "        9.66926993e+08,  3.82260503e+08, -1.82641811e+13, -1.52645294e+13,\n",
       "        2.35963799e+08,  2.09673201e+08, -2.76790204e+12, -6.45491398e+12,\n",
       "       -1.03877008e+13,  3.96067313e+08,  3.30468609e+08, -5.40461749e+12,\n",
       "        8.54937530e+08,  2.52458560e+08,  6.23004228e+08,  6.60127076e+08,\n",
       "        3.29946029e+08,  1.49265807e+08, -2.17979901e+13, -5.21029606e+12,\n",
       "        2.92341410e+08, -8.77508436e+12,  3.54225477e+08,  2.73757267e+08,\n",
       "        2.51278798e+08,  3.33465096e+08,  1.29549898e+08, -6.29386987e+12,\n",
       "       -1.15854802e+13, -1.37191082e+13, -2.02006457e+13,  4.13153089e+08,\n",
       "        3.33290342e+08, -1.30791267e+13,  4.95082170e+08, -1.38609463e+13,\n",
       "       -4.59162575e+13, -1.45177962e+13, -1.74781005e+13, -1.32173160e+13,\n",
       "        3.47769382e+08,  8.32255735e+08,  5.30261238e+08, -4.60792555e+13,\n",
       "       -1.10773529e+13, -1.03956620e+13,  2.64239752e+08,  3.06635844e+08,\n",
       "       -7.48138396e+12, -2.43147802e+12, -6.99859324e+12,  2.15227267e+08,\n",
       "       -3.65019628e+13,  5.07799488e+08, -9.22712299e+12,  6.45723478e+08,\n",
       "       -1.06874205e+13, -7.10258812e+12,  5.97318575e+08,  9.09463585e+08,\n",
       "        3.04205048e+08, -1.18528289e+13,  2.17306622e+08,  3.00728484e+08,\n",
       "        6.32632321e+08,  2.81116803e+08,  5.41990864e+08,  4.73473687e+08,\n",
       "       -9.04556448e+12, -2.86151717e+13,  2.43548967e+08,  6.41079452e+08,\n",
       "        3.34117026e+08,  4.51244464e+08,  7.65033571e+08,  2.65252408e+08,\n",
       "        8.28963284e+08,  8.54034795e+08,  3.57927483e+08,  3.56375262e+08,\n",
       "        2.33383984e+08,  8.57250609e+08,  5.91338786e+08, -5.79424312e+12,\n",
       "        3.20678313e+08,  3.15966998e+08, -3.15709426e+12, -1.86131071e+13,\n",
       "       -2.86678937e+13, -1.07690489e+13,  4.81400032e+08,  4.83604262e+08,\n",
       "        5.19777684e+08, -1.55544929e+13,  3.36338136e+08, -3.98440540e+12,\n",
       "       -2.06240876e+13,  5.92151260e+08,  4.34812200e+08,  2.72529623e+08,\n",
       "        7.04330230e+08, -2.46233142e+12,  5.04373448e+08, -1.11650856e+13,\n",
       "       -1.90169991e+13,  3.15959258e+08,  5.30151164e+08, -5.35764510e+12,\n",
       "       -7.26412451e+12, -5.23948926e+12,  2.88129261e+08,  3.35556257e+08,\n",
       "        5.64554837e+08, -9.88872036e+12,  3.68521282e+08, -2.95288980e+12,\n",
       "       -5.45705780e+12,  4.17766222e+08, -9.36006361e+12, -2.12971045e+13,\n",
       "       -4.05840996e+12,  8.43436246e+08,  7.07331652e+08, -9.81194844e+12,\n",
       "       -6.56345750e+12,  4.07940886e+08,  3.13931906e+08, -3.68314616e+12,\n",
       "        1.25584335e+09, -1.34881467e+12, -5.42459213e+12,  5.33341910e+08,\n",
       "        2.48058384e+08, -1.70964360e+13,  3.49038978e+08,  5.91544526e+08,\n",
       "       -1.70996568e+13,  9.05022238e+08, -3.68186259e+12,  4.64994396e+08,\n",
       "       -2.55936396e+13,  4.33725152e+08, -1.66629743e+13,  3.51201621e+08,\n",
       "        4.51714274e+08,  5.27476033e+08, -5.44024321e+12,  4.43954134e+08,\n",
       "       -7.72387408e+12,  2.67540132e+08, -6.62937843e+12, -3.25200956e+13,\n",
       "       -6.45493641e+12, -4.05553129e+13, -3.16260009e+12,  2.67403999e+08,\n",
       "       -3.93864204e+12,  4.14498618e+08,  7.12581577e+08, -2.05230113e+12,\n",
       "       -2.05208601e+13,  4.67735795e+08,  4.43868369e+08,  6.44928125e+08,\n",
       "        4.68144635e+08, -2.52613787e+13,  4.62459328e+08,  4.95842466e+08,\n",
       "        3.21606731e+08,  5.81745119e+08,  6.15884838e+08, -1.06832045e+13,\n",
       "        3.24450448e+08,  2.73415666e+08, -2.91246660e+12, -9.37235013e+12,\n",
       "       -2.07455376e+13,  2.65050195e+08,  2.34168825e+08, -5.76368519e+12,\n",
       "       -4.16352393e+12,  2.68334582e+08,  3.19859592e+08, -2.99035816e+13,\n",
       "       -4.81671549e+12,  4.30885006e+08,  5.12301266e+08,  5.89974056e+08,\n",
       "        4.67768517e+08,  2.12723311e+08,  3.01359579e+08, -4.94828091e+12,\n",
       "        3.96104035e+08,  2.62377833e+08, -4.83735703e+13, -1.31700509e+13,\n",
       "       -4.94390467e+12, -1.08647067e+13, -3.74057378e+13,  3.68449787e+08,\n",
       "        4.74888679e+08,  3.67622385e+08,  4.49007417e+08,  3.76891075e+08,\n",
       "        7.54521896e+08,  5.16953775e+08,  3.26019013e+08,  3.16649638e+08,\n",
       "        7.48798165e+08,  4.10715944e+08,  2.91449976e+08,  2.90839611e+08,\n",
       "       -1.81677253e+13, -7.51656255e+12, -5.08888291e+12,  2.86292330e+08,\n",
       "       -4.05661580e+12,  4.49028134e+08,  6.50875754e+08, -1.15285918e+13,\n",
       "       -2.05231775e+12,  3.80526519e+08,  4.38474564e+08,  3.74635196e+08,\n",
       "        2.86667256e+08,  3.09498223e+08, -1.03255317e+13, -8.06399070e+12,\n",
       "        4.82841787e+08,  2.27793850e+08, -8.72792803e+12,  2.07982528e+08,\n",
       "        9.49004200e+08,  2.57391971e+08, -5.24559561e+12,  4.73940045e+08,\n",
       "        4.48670384e+08, -9.32886051e+12,  5.54236463e+08, -1.90404797e+13,\n",
       "       -2.68622892e+13,  4.31486921e+08,  6.27693314e+08,  9.05785528e+08,\n",
       "        5.30976739e+08, -1.39209578e+13, -1.60962413e+13,  2.96618005e+08,\n",
       "        2.57303762e+08,  2.58085757e+08])"
      ]
     },
     "execution_count": 180,
     "metadata": {},
     "output_type": "execute_result"
    }
   ],
   "source": [
    "# Predict on X\n",
    "linreg.predict(X)"
   ]
  },
  {
   "cell_type": "code",
   "execution_count": 181,
   "id": "68f7de16-6e34-444c-ac3d-d4cf160224df",
   "metadata": {},
   "outputs": [],
   "source": [
    "# Create new column 'SalePrice' on test dataframe and set to predictions \n",
    "test['SalePrice'] = linreg.predict(X)"
   ]
  },
  {
   "cell_type": "code",
   "execution_count": 182,
   "id": "d42fd197-8bae-4eca-8e54-3924b21cb714",
   "metadata": {},
   "outputs": [],
   "source": [
    "# save to csv file for submission\n",
    "test[['id', 'SalePrice']].to_csv('datasets/ames_test_preds.csv', index=False)"
   ]
  }
 ],
 "metadata": {
  "kernelspec": {
   "display_name": "Python 3",
   "language": "python",
   "name": "python3"
  },
  "language_info": {
   "codemirror_mode": {
    "name": "ipython",
    "version": 3
   },
   "file_extension": ".py",
   "mimetype": "text/x-python",
   "name": "python",
   "nbconvert_exporter": "python",
   "pygments_lexer": "ipython3",
   "version": "3.8.8"
  }
 },
 "nbformat": 4,
 "nbformat_minor": 5
}
